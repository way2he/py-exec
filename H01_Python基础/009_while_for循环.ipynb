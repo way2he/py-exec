{
  "cells": [
    {
      "cell_type": "markdown",
      "id": "loop-title",
      "metadata": {},
      "source": ["# Python 循环控制：while与for的深度解析"]
    },
    {
      "cell_type": "markdown",
      "id": "loop-intro",
      "metadata": {},
      "source": ["循环是编程中实现重复执行的核心结构，Python提供了`while`和`for`两种主要循环方式。本文从语法规则、执行流程、适用场景、常见陷阱及最佳实践五个维度展开专业解析。"]
    },
    {
      "cell_type": "markdown",
      "id": "while-section",
      "metadata": {},
      "source": ["## 一、while循环：条件驱动的重复执行"]
    },
    {
      "cell_type": "markdown",
      "id": "while-syntax",
      "metadata": {},
      "source": ["### 1. 核心语法与执行流程", "```python", "初始化变量", "while 条件表达式:", "    循环体（需缩进）", "    变量更新（关键防死循环）", "```", "执行流程：", "1. 检查条件表达式，结果为`True`则执行循环体；", "2. 执行完循环体后再次检查条件；", "3. 条件为`False`时退出循环。"]
    },
    {
      "cell_type": "code",
      "execution_count": null,
      "id": "while-example",
      "metadata": {},
      "outputs": [],
      "source": ["# 示例1：计算1-10的累加和（典型计数循环）", "total = 0", "i = 1", "while i <= 10:", "    total += i  # 累加当前值", "    i += 1      # 更新计数器（防死循环关键）", "print(f'1-10累加和为：{total}')  # 输出：55"]
    },
    {
      "cell_type": "markdown",
      "id": "while-scene",
      "metadata": {},
      "source": ["### 2. 适用场景", "- 未知循环次数（如等待用户输入有效数据）", "- 需要动态调整循环条件（如实时监控系统）"]
    },
    {
      "cell_type": "code",
      "execution_count": null,
      "id": "while-dynamic",
      "metadata": {},
      "outputs": [],
      "source": ["# 示例2：动态条件（等待输入非空字符串）", "user_input = ''", "while not user_input.strip():  # 条件：输入为空（包括空格）", "    user_input = input('请输入有效内容：')", "print(f'已接收输入：{user_input}')"]
    },
    {
      "cell_type": "markdown",
      "id": "while-trap",
      "metadata": {},
      "source": ["### 3. 常见陷阱与规避", "- **死循环**：忘记更新条件变量（如遗漏`i += 1`），需在编写时强制检查条件更新逻辑；", "- **性能问题**：高频条件检查（如`while True`配合`break`），建议优先用`for`遍历可迭代对象。"]
    },
    {
      "cell_type": "markdown",
      "id": "for-section",
      "metadata": {},
      "source": ["## 二、for循环：迭代驱动的重复执行"]
    },
    {
      "cell_type": "markdown",
      "id": "for-syntax",
      "metadata": {},
      "source": ["### 1. 核心语法与执行流程", "```python", "for 元素变量 in 可迭代对象:", "    循环体（需缩进）", "```", "执行流程：", "1. 从可迭代对象中依次取出元素；", "2. 将元素赋值给`元素变量`并执行循环体；", "3. 遍历完所有元素后退出循环。"]
    },
    {
      "cell_type": "code",
      "execution_count": null,
      "id": "for-example",
      "metadata": {},
      "outputs": [],
      "source": ["# 示例3：遍历列表并计算平均值（典型迭代场景）", "scores = [85, 92, 78, 90, 88]", "total = 0", "for score in scores:  # 直接遍历列表元素", "    total += score", "average = total / len(scores)", "print(f'平均分：{average:.2f}')  # 输出：86.60"]
    },
    {
      "cell_type": "markdown",
      "id": "for-scene",
      "metadata": {},
      "source": ["### 2. 适用场景", "- 已知可迭代对象（如列表、元组、字符串、字典）", "- 需要访问元素本身（如数据处理、模式匹配）"]
    },
    {
      "cell_type": "code",
      "execution_count": null,
      "id": "for-dict",
      "metadata": {},
      "outputs": [],
      "source": ["# 示例4：遍历字典（键值对处理）", "user_info = {'name':'Alice', 'age':25, 'city':'Beijing'}", "for key, value in user_info.items():  # 遍历键值对", "    print(f'{key.capitalize()}: {value}')  # 输出：Name: Alice 等"]
    },
    {
      "cell_type": "markdown",
      "id": "for-trap",
      "metadata": {},
      "source": ["### 3. 常见陷阱与规避", "- **修改迭代对象**：遍历列表时删除/添加元素会导致索引错乱，建议遍历副本（如`for item in list.copy():`）；", "- **忽略可迭代特性**：误用不可迭代对象（如整数），需确保`in`右侧为可迭代类型（如`range()`生成器）。"]
    },
    {
      "cell_type": "markdown",
      "id": "loop-compare",
      "metadata": {},
      "source": ["## 三、while与for的对比与选择", "| 维度        | while循环                  | for循环                    |", "|-------------|---------------------------|---------------------------|", "| 驱动方式    | 条件表达式（布尔结果）     | 可迭代对象（元素遍历）     |", "| 循环次数    | 未知（条件动态变化）       | 已知（可迭代对象长度）     |", "| 典型场景    | 交互等待、实时监控         | 数据遍历、模式匹配         |", "| 推荐优先级  | 次选（需谨慎处理条件）     | 首选（结构清晰，减少错误） |"]
    },
    {
      "cell_type": "markdown",
      "id": "best-practice",
      "metadata": {},
      "source": ["## 四、最佳实践总结", "1. **优先用for**：当遍历可迭代对象时，`for`比`while`更简洁且不易出错；", "2. **明确循环终止条件**：`while`必须包含条件更新逻辑，建议在循环开始前初始化变量；", "3. **避免嵌套过深**：多层循环（如`while`嵌套`for`）会降低可读性，可通过函数封装优化；", "4. **善用内置函数**：`range()`、`enumerate()`、`zip()`等函数可简化`for`循环写法（示例如下）。"]
    },
    {
      "cell_type": "code",
      "execution_count": null,
      "id": "best-example",
      "metadata": {},
      "outputs": [],
      "source": ["# 示例5：使用enumerate()获取索引和元素", "fruits = ['apple', 'banana', 'cherry']", "for index, fruit in enumerate(fruits, start=1):  # start=1使索引从1开始", "    print(f'第{index}个水果：{fruit}')  # 输出：第1个水果：apple 等"]
    }
  ],
  "metadata": {
    "kernelspec": {
      "display_name": "ml",
      "language": "python",
      "name": "python3"
    },
    "language_info": {
      "codemirror_mode": {
        "name": "ipython",
        "version": 3
      },
      "file_extension": ".py",
      "mimetype": "text/x-python",
      "name": "python",
      "nbconvert_exporter": "python",
      "pygments_lexer": "ipython3",
      "version": "3.12.9"
    }
  },
  "nbformat": 4,
  "nbformat_minor": 5
}